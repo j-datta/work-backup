{
 "cells": [
  {
   "cell_type": "code",
   "execution_count": 5,
   "metadata": {},
   "outputs": [
    {
     "name": "stderr",
     "output_type": "stream",
     "text": [
      "/tmp/ipykernel_3698858/1722374089.py:17: FutureWarning: Returning a DataFrame from Series.apply when the supplied function returns a Series is deprecated and will be removed in a future version.\n",
      "  metadata_df = df['metadata'].apply(pd.Series)\n"
     ]
    },
    {
     "name": "stdout",
     "output_type": "stream",
     "text": [
      "Empty DataFrame\n",
      "Columns: [text, id]\n",
      "Index: []\n"
     ]
    }
   ],
   "source": [
    "import pandas as pd\n",
    "import json\n",
    "\n",
    "# Function to load the JSONL data into a pandas dataframe\n",
    "def load_jsonl_to_dataframe(jsonl_path):\n",
    "    with open(jsonl_path, 'r') as file:\n",
    "        data = [json.loads(line) for line in file]\n",
    "    return pd.DataFrame(data)\n",
    "\n",
    "# Path to the JSONL file containing the metadata\n",
    "metadata_jsonl_path = '/data/share/project/smart_hospital/medical_dataset/doc_check/02_normalized_metadata/dataset.jsonl'\n",
    "\n",
    "# Load the data into a dataframe\n",
    "df = load_jsonl_to_dataframe(metadata_jsonl_path)\n",
    "\n",
    "# Extracting metadata columns into separate dataframe columns\n",
    "metadata_df = df['metadata'].apply(pd.Series)\n",
    "\n",
    "# Filtering rows where all metadata values are 0\n",
    "zero_metadata_rows = metadata_df[metadata_df.sum(axis=1) == 0]\n",
    "\n",
    "# Displaying the associated texts for the filtered records\n",
    "filtered_texts = df[df.index.isin(zero_metadata_rows.index)][['text', 'id']]\n",
    "\n",
    "print(filtered_texts)"
   ]
  },
  {
   "cell_type": "code",
   "execution_count": 6,
   "metadata": {},
   "outputs": [
    {
     "name": "stdout",
     "output_type": "stream",
     "text": [
      "Empty DataFrame\n",
      "Columns: [text, id]\n",
      "Index: []\n"
     ]
    }
   ],
   "source": [
    "import pandas as pd\n",
    "import json\n",
    "\n",
    "# Function to load the JSONL data into a pandas dataframe\n",
    "def load_jsonl_to_dataframe(jsonl_path):\n",
    "    with open(jsonl_path, 'r') as file:\n",
    "        data = [json.loads(line) for line in file]\n",
    "    return pd.DataFrame(data)\n",
    "\n",
    "# Path to the JSONL file containing the metadata\n",
    "metadata_jsonl_path = '/data/share/project/smart_hospital/medical_dataset/doc_check/02_normalized_metadata/dataset.jsonl'\n",
    "\n",
    "# Load the data into a dataframe\n",
    "df = load_jsonl_to_dataframe(metadata_jsonl_path)\n",
    "\n",
    "# Extracting metadata columns using json_normalize\n",
    "metadata_df = pd.json_normalize(df['metadata'])\n",
    "\n",
    "# Filtering rows where all metadata values are 0\n",
    "zero_metadata_rows = metadata_df[metadata_df.sum(axis=1) == 0]\n",
    "\n",
    "# Displaying the associated texts for the filtered records\n",
    "filtered_texts_revised = df[df.index.isin(zero_metadata_rows.index)][['text', 'id']]\n",
    "\n",
    "print(filtered_texts_revised)\n"
   ]
  }
 ],
 "metadata": {
  "kernelspec": {
   "display_name": "myenv",
   "language": "python",
   "name": "python3"
  },
  "language_info": {
   "codemirror_mode": {
    "name": "ipython",
    "version": 3
   },
   "file_extension": ".py",
   "mimetype": "text/x-python",
   "name": "python",
   "nbconvert_exporter": "python",
   "pygments_lexer": "ipython3",
   "version": "3.11.4"
  },
  "orig_nbformat": 4
 },
 "nbformat": 4,
 "nbformat_minor": 2
}
